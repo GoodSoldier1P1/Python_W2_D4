{
 "cells": [
  {
   "cell_type": "markdown",
   "metadata": {},
   "source": [
    "# Object-Oriented-Programming (OOP)"
   ]
  },
  {
   "cell_type": "markdown",
   "metadata": {},
   "source": [
    "## Tasks Today:\n",
    "\n",
    "   \n",
    "\n",
    "1) <b>Creating a Class (Initializing/Declaring)</b> <br>\n",
    "2) <b>Using a Class (Instantiating)</b> <br>\n",
    " &nbsp;&nbsp;&nbsp;&nbsp; a) Creating One Instance <br>\n",
    " &nbsp;&nbsp;&nbsp;&nbsp; b) Creating Multiple Instances <br>\n",
    " &nbsp;&nbsp;&nbsp;&nbsp; c) In-Class Exercise #1 - Create a Class 'Car' and instantiate three different makes of cars <br>\n",
    "3) <b>The \\__init\\__() Method</b> <br>\n",
    " &nbsp;&nbsp;&nbsp;&nbsp; a) The 'self' Attribute <br>\n",
    "4) <b>Class Attributes</b> <br>\n",
    " &nbsp;&nbsp;&nbsp;&nbsp; a) Initializing Attributes <br>\n",
    " &nbsp;&nbsp;&nbsp;&nbsp; b) Setting an Attribute Outside of the \\__init\\__() Method <br>\n",
    " &nbsp;&nbsp;&nbsp;&nbsp; c) Setting Defaults for Attributes <br>\n",
    " &nbsp;&nbsp;&nbsp;&nbsp; d) Accessing Class Attributes <br>\n",
    " &nbsp;&nbsp;&nbsp;&nbsp; e) Changing Class Attributes <br>\n",
    " &nbsp;&nbsp;&nbsp;&nbsp; f) In-Class Exercise #2 - Add a color and wheels attribute to your 'Car' class <br>\n",
    "5) <b>Class Methods</b> <br>\n",
    " &nbsp;&nbsp;&nbsp;&nbsp; a) Creating <br>\n",
    " &nbsp;&nbsp;&nbsp;&nbsp; b) Calling <br>\n",
    " &nbsp;&nbsp;&nbsp;&nbsp; c) Modifying an Attribute's Value Through a Method <br>\n",
    " &nbsp;&nbsp;&nbsp;&nbsp; d) Incrementing an Attribute's Value Through a Method <br>\n",
    " &nbsp;&nbsp;&nbsp;&nbsp; e) In-Class Exercise #3 - Add a method that prints the cars color and wheel number, then call them <br>\n",
    "6) <b>Inheritance</b> <br>\n",
    " &nbsp;&nbsp;&nbsp;&nbsp; a) Syntax for Inheriting from a Parent Class <br>\n",
    " &nbsp;&nbsp;&nbsp;&nbsp; b) The \\__init\\__() Method for a Child Class (super()) <br>\n",
    " &nbsp;&nbsp;&nbsp;&nbsp; c) Defining Attributes and Methods for the Child Class <br>\n",
    " &nbsp;&nbsp;&nbsp;&nbsp; d) Method Overriding <br>\n",
    " &nbsp;&nbsp;&nbsp;&nbsp; e) In-Class Exercise #4 - Create a class 'Ford' that inherits from 'Car' class and initialize it as a Blue Ford Explorer with 4 wheels using the super() method <br>\n",
    "7) <b>Exercises</b> <br>\n",
    " &nbsp;&nbsp;&nbsp;&nbsp; a) Exercise #1 - Turn the shopping cart program from yesterday into an object-oriented program <br>"
   ]
  },
  {
   "cell_type": "markdown",
   "metadata": {},
   "source": [
    "## Creating a Class (Initializing/Declaring)\n",
    "<p>When creating a class, function, or even a variable you are initializing that object. Initializing and Declaring occur at the same time in Python, whereas in lower level languages you have to declare an object before initializing it. This is the first step in the process of using a class.</p>"
   ]
  },
  {
   "cell_type": "code",
   "execution_count": 2,
   "metadata": {},
   "outputs": [],
   "source": [
    "class Car():\n",
    "    wheels = 4\n",
    "    color = 'blue'\n",
    "\n"
   ]
  },
  {
   "cell_type": "markdown",
   "metadata": {},
   "source": [
    "## Using a Class (Instantiating)\n",
    "<p>The process of creating a class is called <i>Instantiating</i>. Each time you create a variable of that type of class, it is referred to as an <i>Instance</i> of that class. This is the second step in the process of using a class.</p>"
   ]
  },
  {
   "cell_type": "markdown",
   "metadata": {},
   "source": [
    "##### Creating One Instance"
   ]
  },
  {
   "cell_type": "code",
   "execution_count": 5,
   "metadata": {},
   "outputs": [
    {
     "name": "stdout",
     "output_type": "stream",
     "text": [
      "4\n"
     ]
    }
   ],
   "source": [
    "ford = Car()\n",
    "\n",
    "print(ford.wheels)"
   ]
  },
  {
   "cell_type": "markdown",
   "metadata": {},
   "source": [
    "##### Creating Multiple Instances"
   ]
  },
  {
   "cell_type": "code",
   "execution_count": 6,
   "metadata": {},
   "outputs": [
    {
     "name": "stdout",
     "output_type": "stream",
     "text": [
      "blue\n"
     ]
    }
   ],
   "source": [
    "nissan = Car()\n",
    "chevy = Car()\n",
    "lambo = Car()\n",
    "print(nissan.color)"
   ]
  },
  {
   "cell_type": "markdown",
   "metadata": {},
   "source": [
    "##### In-Class Exercise #1 - Create a Class 'Car' and Instantiate three different makes of cars"
   ]
  },
  {
   "cell_type": "code",
   "execution_count": 32,
   "metadata": {},
   "outputs": [
    {
     "name": "stdout",
     "output_type": "stream",
     "text": [
      "4\n",
      "RED\n",
      "long bed\n"
     ]
    }
   ],
   "source": [
    "class Trucks():\n",
    "    wheels = 4\n",
    "    color = 'red'\n",
    "    bed_style = 'long bed'\n",
    "\n",
    "chevy = Trucks()\n",
    "dodge = Trucks()\n",
    "ford = Trucks()\n",
    "\n",
    "print(chevy.wheels)\n",
    "print(ford.color.upper()) # added .upper() after class was over to test it\n",
    "print(dodge.bed_style)"
   ]
  },
  {
   "cell_type": "markdown",
   "metadata": {},
   "source": [
    "## The \\__init\\__() Method <br>\n",
    "<p>This method is used in almost every created class, and called only once upon the creation of the class instance. This method will initialize all variables needed for the object.</p>"
   ]
  },
  {
   "cell_type": "code",
   "execution_count": 11,
   "metadata": {},
   "outputs": [
    {
     "data": {
      "text/plain": [
       "'USA'"
      ]
     },
     "execution_count": 11,
     "metadata": {},
     "output_type": "execute_result"
    }
   ],
   "source": [
    "class NflTeam():\n",
    "    country = 'USA'\n",
    "    def __init__(self, city, name):         # dunder init methond   __init__ means initialize\n",
    "        self.city = city    # Instance properties\n",
    "        self.name = name\n",
    "\n",
    "eagles = NflTeam('Philadelphia', 'Eagles')\n",
    "broncos = NflTeam('Denver', 'Broncos')\n",
    "eagles.country"
   ]
  },
  {
   "cell_type": "markdown",
   "metadata": {},
   "source": [
    "##### The 'self' Attribute <br>\n",
    "<p>This attribute is required to keep track of specific instance's attributes. Without the self attribute, the program would not know how to reference or keep track of an instance's attributes.</p>"
   ]
  },
  {
   "cell_type": "code",
   "execution_count": null,
   "metadata": {},
   "outputs": [],
   "source": [
    "# see above"
   ]
  },
  {
   "cell_type": "markdown",
   "metadata": {},
   "source": [
    "## Class Attributes <br>\n",
    "<p>While variables are inside of a class, they are referred to as attributes and not variables. When someone says 'attribute' you know they're speaking about a class. Attributes can be initialized through the init method, or outside of it.</p>"
   ]
  },
  {
   "cell_type": "markdown",
   "metadata": {},
   "source": [
    "##### Initializing Attributes"
   ]
  },
  {
   "cell_type": "code",
   "execution_count": null,
   "metadata": {},
   "outputs": [],
   "source": [
    "# see above"
   ]
  },
  {
   "cell_type": "markdown",
   "metadata": {},
   "source": [
    "##### Accessing Class Attributes"
   ]
  },
  {
   "cell_type": "code",
   "execution_count": null,
   "metadata": {
    "scrolled": true
   },
   "outputs": [],
   "source": [
    "# See Above"
   ]
  },
  {
   "cell_type": "markdown",
   "metadata": {},
   "source": [
    "##### Setting Defaults for Attributes"
   ]
  },
  {
   "cell_type": "code",
   "execution_count": 16,
   "metadata": {},
   "outputs": [
    {
     "data": {
      "text/plain": [
       "{'city': 'San Diego', 'name': 'heat', 'year': 2023}"
      ]
     },
     "execution_count": 16,
     "metadata": {},
     "output_type": "execute_result"
    }
   ],
   "source": [
    "class NbaTeam():\n",
    "    def __init__(self, city, name, year=2023):\n",
    "        self.city = city\n",
    "        self.name = name\n",
    "        self.year = year\n",
    "\n",
    "heat = NbaTeam('miami', 'heat')\n",
    "heat.year\n",
    "\n",
    "\n",
    "# changing an instance property\n",
    "heat.city = 'San Diego'\n",
    "\n",
    "# viewing properties as a dictionary\n",
    "heat.__dict__"
   ]
  },
  {
   "attachments": {},
   "cell_type": "markdown",
   "metadata": {},
   "source": [
    "##### Changing Instance Attributes <br>\n",
    "<p>Keep in mind there are global class attributes and then there are attributes only available to each class instance which won't effect other classes.</p>"
   ]
  },
  {
   "cell_type": "code",
   "execution_count": null,
   "metadata": {},
   "outputs": [],
   "source": [
    "# see above"
   ]
  },
  {
   "cell_type": "markdown",
   "metadata": {},
   "source": [
    "##### In-Class Exercise #2 - Add a doors and seats attribute to your 'Car' class then print out two different instances with different doors and seats"
   ]
  },
  {
   "cell_type": "code",
   "execution_count": 20,
   "metadata": {},
   "outputs": [
    {
     "name": "stdout",
     "output_type": "stream",
     "text": [
      "4\n",
      "4\n",
      "3\n",
      "2\n"
     ]
    }
   ],
   "source": [
    "class Truck():\n",
    "    def __init__(self, doors, seats) -> None:\n",
    "        self.doors = doors\n",
    "        self.seats = seats\n",
    "\n",
    "chevy = Truck(4, 4)\n",
    "print(chevy.doors)\n",
    "print(chevy.seats)\n",
    "\n",
    "ford = Truck(2, 3)\n",
    "print(ford.seats)\n",
    "print(ford.doors)"
   ]
  },
  {
   "cell_type": "markdown",
   "metadata": {},
   "source": [
    "## Class Methods <br>\n",
    "<p>While inside of a class, functions are referred to as 'methods'. If you hear someone mention methods, they're speaking about classes. Methods are essentially functions, but only callable on the instances of a class.</p>"
   ]
  },
  {
   "cell_type": "markdown",
   "metadata": {},
   "source": [
    "##### Creating"
   ]
  },
  {
   "cell_type": "code",
   "execution_count": 25,
   "metadata": {},
   "outputs": [
    {
     "name": "stdout",
     "output_type": "stream",
     "text": [
      "Kevin Durant was added to your roster!\n",
      "Your current roster is {'Kevin Durant': 35}\n",
      "Anthony Davis was added to your roster!\n",
      "Your current roster is {'Kevin Durant': 35, 'Anthony Davis': 3}\n",
      "Greek Freak was added to your roster!\n",
      "Your current roster is {'Kevin Durant': 35, 'Anthony Davis': 3, 'Greek Freak': 34}\n",
      "Kevin Durant has been removed from your roster!\n",
      "Your current roster is {'Anthony Davis': 3, 'Greek Freak': 34}.\n",
      "----- Your current roster is ------\n",
      "Anthony Davis 3\n",
      "Greek Freak 34\n"
     ]
    }
   ],
   "source": [
    "class Roster():\n",
    "    def __init__(self):\n",
    "        self.depth_chart = {}\n",
    "        self.num_of_players = 0\n",
    "    \n",
    "    def addPlayer(self):\n",
    "        name = input('What player would you like to add to your roster?')\n",
    "        jersey_num = int(input(f'What number will {name} have?'))\n",
    "        self.depth_chart[name] = jersey_num\n",
    "        self.num_of_players += 1\n",
    "        print(f'{name} was added to your roster!')\n",
    "        print(f'Your current roster is {self.depth_chart}')\n",
    "\n",
    "    def removePlayer(self):\n",
    "        name = input('What player would you like to remove from your roster?')\n",
    "        if (name in self.depth_chart):\n",
    "            del self.depth_chart[name]\n",
    "            self.num_of_players -+ 1\n",
    "            print(f'{name} has been removed from your roster!')\n",
    "            print(f'Your current roster is {self.depth_chart}.')\n",
    "        else:\n",
    "            print(f'{name} is not on your team')\n",
    "\n",
    "    def showRoster(self):\n",
    "        print(f'Your roster has {self.num_of_players} players')\n",
    "        print('----- Current Roster ------')\n",
    "        for key, value in self.depth_chart.items():\n",
    "            print(key, value)\n",
    "\n",
    "    def runner(self):\n",
    "        while True:\n",
    "            choice = input('What would you like to do? (add, remove, show, or quit)').lower()\n",
    "            if (choice == 'quit'):\n",
    "                print('Good luck this season!')\n",
    "                break\n",
    "            elif (choice == 'add'):\n",
    "                self.addPlayer()\n",
    "            elif (choice == 'remove'):\n",
    "                self.removePlayer\n",
    "            elif (choice == 'show'):\n",
    "                self.showRoster\n",
    "            else:\n",
    "                print('Invalid input, please try again...')\n",
    "\n",
    "\n",
    "thievesRoster = Roster()\n",
    "thievesRoster.runner()"
   ]
  },
  {
   "cell_type": "markdown",
   "metadata": {},
   "source": [
    "##### Calling"
   ]
  },
  {
   "cell_type": "code",
   "execution_count": null,
   "metadata": {},
   "outputs": [],
   "source": [
    "# See Above"
   ]
  },
  {
   "cell_type": "markdown",
   "metadata": {},
   "source": [
    "##### Modifying an Attribute's Value Through a Method"
   ]
  },
  {
   "cell_type": "code",
   "execution_count": null,
   "metadata": {},
   "outputs": [],
   "source": [
    "# see above\n"
   ]
  },
  {
   "cell_type": "markdown",
   "metadata": {},
   "source": [
    "##### Incrementing an Attribute's Value Through a Method"
   ]
  },
  {
   "cell_type": "code",
   "execution_count": null,
   "metadata": {},
   "outputs": [],
   "source": [
    "# see above\n"
   ]
  },
  {
   "cell_type": "markdown",
   "metadata": {},
   "source": [
    "## Inheritance <br>\n",
    "<p>You can create a child-parent relationship between two classes by using inheritance. What this allows you to do is have overriding methods, but also inherit traits from the parent class. Think of it as an actual parent and child, the child will inherit the parent's genes, as will the classes in OOP</p>"
   ]
  },
  {
   "cell_type": "markdown",
   "metadata": {},
   "source": [
    "##### Syntax for Inheriting from a Parent Class"
   ]
  },
  {
   "cell_type": "code",
   "execution_count": 28,
   "metadata": {},
   "outputs": [
    {
     "name": "stdout",
     "output_type": "stream",
     "text": [
      "magic johnson was added to your Lakers!\n",
      "Your current roster is {'magic johnson': 33}\n",
      "jokic was added to your Lakers!\n",
      "Your current roster is {'magic johnson': 33, 'jokic': 22}\n",
      "yao ming was added to your Lakers!\n",
      "Your current roster is {'magic johnson': 33, 'jokic': 22, 'yao ming': 10}\n",
      "Invalid input, please try again...\n",
      "Invalid input, please try again...\n",
      "Good luck this season!\n"
     ]
    }
   ],
   "source": [
    "class NbaTeam(): # parent class\n",
    "    def __init__(self, city, name, year=2023):\n",
    "        self.city = city\n",
    "        self.name = name\n",
    "        self.year = year\n",
    "\n",
    "    def printInfo(self):\n",
    "        return f'The {self.name} are from {self.city}.'\n",
    "\n",
    "\n",
    "\n",
    "\n",
    "\n",
    "\n",
    "class Roster(NbaTeam):  # child class\n",
    "    def __init__(self, city, name):\n",
    "        super().__init__(city, name)\n",
    "        self.depth_chart = {}\n",
    "        self.num_of_players = 0\n",
    "    \n",
    "    def addPlayer(self):\n",
    "        name = input(f'What player would you like to add to {self.name}?')\n",
    "        jersey_num = int(input(f'What number will {name} have?'))\n",
    "        self.depth_chart[name] = jersey_num\n",
    "        self.num_of_players += 1\n",
    "        print(f'{name} was added to your {self.name}!')\n",
    "        print(f'Your current roster is {self.depth_chart}')\n",
    "\n",
    "    def removePlayer(self):\n",
    "        name = input(f'What player would you like to remove the {self.name}?')\n",
    "        if (name in self.depth_chart):\n",
    "            del self.depth_chart[name]\n",
    "            self.num_of_players -+ 1\n",
    "            print(f'{name} has been removed from your roster!')\n",
    "            print(f'Your current roster is {self.depth_chart}.')\n",
    "        else:\n",
    "            print(f'{name} is not on your team')\n",
    "\n",
    "    def showRoster(self):\n",
    "        print(f'Your roster has {self.num_of_players} players')\n",
    "        print(f'----- Current Roster for the {self.city} {self.name} ------')\n",
    "        for key, value in self.depth_chart.items():\n",
    "            print(key, value)\n",
    "\n",
    "    def runner(self):\n",
    "        while True:\n",
    "            choice = input('What would you like to do? (add, remove, show, or quit)').lower()\n",
    "            if (choice == 'quit'):\n",
    "                print('Good luck this season!')\n",
    "                break\n",
    "            elif (choice == 'add'):\n",
    "                self.addPlayer()\n",
    "            elif (choice == 'remove'):\n",
    "                self.removePlayer\n",
    "            elif (choice == 'show'):\n",
    "                self.showRoster\n",
    "            else:\n",
    "                print('Invalid input, please try again...')\n",
    "\n",
    "\n",
    "thievesTeam = NbaTeam('LA', 'Lakers')\n",
    "thievesRoster = Roster(thievesTeam.city, thievesTeam.name)\n",
    "\n",
    "\n",
    "thievesRoster.runner()"
   ]
  },
  {
   "cell_type": "markdown",
   "metadata": {},
   "source": [
    "##### The \\__init\\__() Method for a Child Class - super()"
   ]
  },
  {
   "cell_type": "code",
   "execution_count": null,
   "metadata": {
    "scrolled": true
   },
   "outputs": [],
   "source": [
    "# see above"
   ]
  },
  {
   "cell_type": "markdown",
   "metadata": {},
   "source": [
    "##### Defining Attributes and Methods for the Child Class"
   ]
  },
  {
   "cell_type": "code",
   "execution_count": null,
   "metadata": {},
   "outputs": [],
   "source": [
    "# See Above"
   ]
  },
  {
   "cell_type": "markdown",
   "metadata": {},
   "source": [
    "# Exercises"
   ]
  },
  {
   "cell_type": "markdown",
   "metadata": {},
   "source": [
    "### Exercise 1 - Turn the shopping cart program from yesterday into an object-oriented program\n",
    "\n",
    "The comments in the cell below are there as a guide for thinking about the problem. However, if you feel a different way is best for you and your own thought process, please do what feels best for you by all means."
   ]
  },
  {
   "cell_type": "code",
   "execution_count": null,
   "metadata": {},
   "outputs": [],
   "source": [
    "# Create a class called cart that retains items and has methods to add, remove, and show\n",
    "\n",
    "class Cart():\n",
    "    def __init__(self) -> None:\n",
    "        self.shopping_cart = {}\n",
    "        self.items_in_cart = 0\n",
    "\n",
    "    def addItems(self):\n",
    "        item = input('What item would you like to add to your cart?')\n",
    "        self.shopping_cart[item] = ' '\n",
    "        self.items_in_cart += 1\n",
    "        print(f'{item} is now in your cart!')\n",
    "        print(f'Your cart has {self.items_in_cart} items in it.')\n",
    "\n",
    "    def removeItem(self):\n",
    "        item = input('Which item would you like to remove?')\n",
    "        if (item in self.shopping_cart):\n",
    "            del self.shopping_cart[item]\n",
    "            self.items_in_cart -= 1\n",
    "            print(f'{item} has been removed from your cart.')\n",
    "            print(f'Your cart has {self.items_in_cart} items in it.')\n",
    "        else:\n",
    "            print(f'{item} was not in your cart, please enter a product from your cart.')\n",
    "\n",
    "    def showCart(self):\n",
    "        print(f'Your cart currently has {self.items_in_cart} in it.')\n",
    "        print('----- Your Cart has the following items in it -----')\n",
    "        for k in self.shopping_cart.keys():\n",
    "            print(k)\n",
    "\n",
    "\n",
    "    def runner(self):\n",
    "        while True:\n",
    "            options = input('Please select one of the following options: Add / Remove / Show (quit to exit)').lower()\n",
    "            if (options == 'quit'):\n",
    "                print(\"Thank you for shopping at GoodSoldier's Super Store!\")\n",
    "                break\n",
    "            elif (options == 'add'):\n",
    "                self.addItems()\n",
    "            elif (options == 'remove'):\n",
    "                self.removeItem()\n",
    "            elif (options == 'show'):\n",
    "                self.showCart()\n",
    "            else:\n",
    "                print(\"I'm sorry, I don't quite understand. Please enter a valid option: Add / Remove / Show (quit to exit)\")\n",
    "\n",
    "\n",
    "soldiersShopping = Cart()\n",
    "soldiersShopping.runner()"
   ]
  },
  {
   "cell_type": "markdown",
   "metadata": {},
   "source": [
    "### Exercise 2 - Write a Python class which has two methods get_String and print_String. get_String accept a string from the user and print_String print the string in upper case"
   ]
  },
  {
   "cell_type": "code",
   "execution_count": 35,
   "metadata": {},
   "outputs": [
    {
     "name": "stdout",
     "output_type": "stream",
     "text": [
      "MEMORY\n"
     ]
    }
   ],
   "source": [
    "class PrintBack():\n",
    "    def __init__(self) -> None:\n",
    "        self.stringer = []\n",
    "        self.printer = \"\"\n",
    "\n",
    "    def get_String(self):\n",
    "        item = input(\"What word would you like to make upper case?\")\n",
    "        self.stringer.append(item)\n",
    "\n",
    "    def print_String(self):\n",
    "        print(self.stringer[0].upper())\n",
    "\n",
    "    def runner(self):\n",
    "        while True:\n",
    "            option = input('Would you like to make a word upper case? (yes or no)').lower()\n",
    "            if (option == 'no'):\n",
    "                break\n",
    "            else:\n",
    "                self.get_String()\n",
    "                break\n",
    "        self.print_String()\n",
    "\n",
    "        \n",
    "soldiersString = PrintBack()\n",
    "soldiersString.runner()"
   ]
  }
 ],
 "metadata": {
  "kernelspec": {
   "display_name": "Python 3",
   "language": "python",
   "name": "python3"
  },
  "language_info": {
   "codemirror_mode": {
    "name": "ipython",
    "version": 3
   },
   "file_extension": ".py",
   "mimetype": "text/x-python",
   "name": "python",
   "nbconvert_exporter": "python",
   "pygments_lexer": "ipython3",
   "version": "3.12.0"
  },
  "vscode": {
   "interpreter": {
    "hash": "aa82987a71ca0339a52998cd22613b0c002bda8349fa32a0cb67ceec3936a2bf"
   }
  }
 },
 "nbformat": 4,
 "nbformat_minor": 2
}
